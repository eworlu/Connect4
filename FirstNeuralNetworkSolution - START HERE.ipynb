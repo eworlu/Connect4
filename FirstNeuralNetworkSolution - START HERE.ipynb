{
  "cells": [
    {
      "cell_type": "markdown",
      "metadata": {
        "id": "iHO2O61bRORE"
      },
      "source": [
        "## Build Your First Neural Network with PyTorch\n",
        "Copyright 2022, LEAKY.AI LLC\n",
        "\n",
        "<pre>\n",
        "Level: Beginner\n",
        "Time:  30 minutes\n",
        "Equipment: Google Chrome Browser\n",
        "</pre>\n",
        "### Overview\n",
        "This free tutorial is intended for anyone curious about building their own A.I. projects. In this tutorial, you will build a neural network from scratch and train it to make Lemonade sales predictions using a simple, synthetic dataset.   You will be introduced to PyTorch, a deep learning library managed by Meta's AI group, powering lots of A.I. applications around the world today.\n",
        "\n",
        "### Dataset – A Simple Lemonade Sales Synthetic Dataset\n",
        "We will be working on a synthetic dataset that catalogs the daily number of lemonades sold at a lemon stand. After training, your neural network will be able to predict the number of lemonades sold on any given day.\n",
        "\n",
        "### How to Get Started\n",
        "You can find the full tutorial and follow along coding the notebook here:  (it’s free)\n",
        "https://www.leaky.ai/buildyourfirstneuralnetwork\n",
        "\n",
        "\n",
        "### Option 1 – Use Google Colab (Simplest Way)\n",
        "In order to complete this assignment:\n",
        "1.\tCopy the following link: https://github.com/LeakyAI/FirstNeuralNet\n",
        "2.\tHead over to Colab: https://colab.research.google.com/\n",
        "3.\tClick on GitHub and paste in the repo link from (1) above\n",
        "4.\tClick the magnify icon on the right side of the link you pasted above\n",
        "5.\tClick on the FirstNeuralNetwork - Start Here.ipynb notebook and the notebook will open\n",
        "6.\tFollow along the tutorial to complete the notebook\n",
        "\n",
        "### Option 2 – Run Notebook Directly on your Own Machine\n",
        "If you want to use your own laptop or desktop to run the notebook locally, we recommend you complete the tutorial on How to Configure your PC for A.I. first which you can find here:\n",
        "\n",
        "#### How to Configure your PC for A.I. (20 Minutes)\n",
        "https://www.leaky.ai/configure-pc-for-ai-20-minutes\n",
        "\n",
        "Then attempt this tutorial by opening up the notebook FirstNeuralNetwork - Start Here.ipynb and follow along the video.\n",
        "\n",
        "Let’s get started!"
      ]
    },
    {
      "cell_type": "markdown",
      "metadata": {
        "id": "SR2lUMExRORG"
      },
      "source": [
        "## Step 1 - Setup our Environment\n",
        "Let's start by importing the software libraries we will need to build our neural network.  We will import PyTorch and check the version of PyTorch that has been imported.  You will usually want to run the latest version.  You can always check the latest version by heading over to PyTorch.org:\n",
        "    \n",
        "    https://pytorch.org/"
      ]
    },
    {
      "cell_type": "code",
      "execution_count": 1,
      "metadata": {
        "colab": {
          "base_uri": "https://localhost:8080/",
          "height": 35
        },
        "id": "qkwCcR3CRORG",
        "outputId": "651c9195-eb74-4b9d-f273-0484185ec0c1"
      },
      "outputs": [
        {
          "output_type": "execute_result",
          "data": {
            "text/plain": [
              "'2.6.0+cu124'"
            ],
            "application/vnd.google.colaboratory.intrinsic+json": {
              "type": "string"
            }
          },
          "metadata": {},
          "execution_count": 1
        }
      ],
      "source": [
        "# Import PyTorch libraries\n",
        "import torch\n",
        "from torch import nn\n",
        "\n",
        "# Import visualization library\n",
        "import matplotlib.pyplot as plt\n",
        "\n",
        "# Verify PyTorch version\n",
        "torch.__version__"
      ]
    },
    {
      "cell_type": "markdown",
      "metadata": {
        "id": "HOd_vQ3CRORH"
      },
      "source": [
        "### Check Our Processing Capability (CPU vs. GPU)\n",
        "When developing A.I. projects, it will help to have a powerful GPU.  While this project does not require one, the code below will detect if one is present in your environment and use it during the training process."
      ]
    },
    {
      "cell_type": "code",
      "execution_count": 6,
      "metadata": {
        "colab": {
          "base_uri": "https://localhost:8080/",
          "height": 356
        },
        "id": "v8Wmo9Z0RORH",
        "outputId": "f50ecfd0-f7d4-4915-c04d-eea9cda0a1e5"
      },
      "outputs": [
        {
          "output_type": "stream",
          "name": "stdout",
          "text": [
            "A cuda device was detected.\n"
          ]
        },
        {
          "output_type": "error",
          "ename": "RuntimeError",
          "evalue": "Found no NVIDIA driver on your system. Please check that you have an NVIDIA GPU and installed a driver from http://www.nvidia.com/Download/index.aspx",
          "traceback": [
            "\u001b[0;31m---------------------------------------------------------------------------\u001b[0m",
            "\u001b[0;31mRuntimeError\u001b[0m                              Traceback (most recent call last)",
            "\u001b[0;32m<ipython-input-6-1754ea12ebfb>\u001b[0m in \u001b[0;36m<cell line: 0>\u001b[0;34m()\u001b[0m\n\u001b[1;32m      5\u001b[0m \u001b[0;31m# Print the name of the cuda device, if detected\u001b[0m\u001b[0;34m\u001b[0m\u001b[0;34m\u001b[0m\u001b[0m\n\u001b[1;32m      6\u001b[0m \u001b[0;32mif\u001b[0m \u001b[0mdevice\u001b[0m\u001b[0;34m==\u001b[0m\u001b[0;34m'cuda'\u001b[0m\u001b[0;34m:\u001b[0m\u001b[0;34m\u001b[0m\u001b[0;34m\u001b[0m\u001b[0m\n\u001b[0;32m----> 7\u001b[0;31m     \u001b[0mprint\u001b[0m \u001b[0;34m(\u001b[0m\u001b[0mtorch\u001b[0m\u001b[0;34m.\u001b[0m\u001b[0mcuda\u001b[0m\u001b[0;34m.\u001b[0m\u001b[0mget_device_name\u001b[0m\u001b[0;34m(\u001b[0m\u001b[0mdevice\u001b[0m\u001b[0;34m=\u001b[0m\u001b[0mdevice\u001b[0m\u001b[0;34m)\u001b[0m\u001b[0;34m)\u001b[0m\u001b[0;34m\u001b[0m\u001b[0;34m\u001b[0m\u001b[0m\n\u001b[0m",
            "\u001b[0;32m/usr/local/lib/python3.11/dist-packages/torch/cuda/__init__.py\u001b[0m in \u001b[0;36mget_device_name\u001b[0;34m(device)\u001b[0m\n\u001b[1;32m    489\u001b[0m         \u001b[0mstr\u001b[0m\u001b[0;34m:\u001b[0m \u001b[0mthe\u001b[0m \u001b[0mname\u001b[0m \u001b[0mof\u001b[0m \u001b[0mthe\u001b[0m \u001b[0mdevice\u001b[0m\u001b[0;34m\u001b[0m\u001b[0;34m\u001b[0m\u001b[0m\n\u001b[1;32m    490\u001b[0m     \"\"\"\n\u001b[0;32m--> 491\u001b[0;31m     \u001b[0;32mreturn\u001b[0m \u001b[0mget_device_properties\u001b[0m\u001b[0;34m(\u001b[0m\u001b[0mdevice\u001b[0m\u001b[0;34m)\u001b[0m\u001b[0;34m.\u001b[0m\u001b[0mname\u001b[0m\u001b[0;34m\u001b[0m\u001b[0;34m\u001b[0m\u001b[0m\n\u001b[0m\u001b[1;32m    492\u001b[0m \u001b[0;34m\u001b[0m\u001b[0m\n\u001b[1;32m    493\u001b[0m \u001b[0;34m\u001b[0m\u001b[0m\n",
            "\u001b[0;32m/usr/local/lib/python3.11/dist-packages/torch/cuda/__init__.py\u001b[0m in \u001b[0;36mget_device_properties\u001b[0;34m(device)\u001b[0m\n\u001b[1;32m    521\u001b[0m         \u001b[0m_CudaDeviceProperties\u001b[0m\u001b[0;34m:\u001b[0m \u001b[0mthe\u001b[0m \u001b[0mproperties\u001b[0m \u001b[0mof\u001b[0m \u001b[0mthe\u001b[0m \u001b[0mdevice\u001b[0m\u001b[0;34m\u001b[0m\u001b[0;34m\u001b[0m\u001b[0m\n\u001b[1;32m    522\u001b[0m     \"\"\"\n\u001b[0;32m--> 523\u001b[0;31m     \u001b[0m_lazy_init\u001b[0m\u001b[0;34m(\u001b[0m\u001b[0;34m)\u001b[0m  \u001b[0;31m# will define _get_device_properties\u001b[0m\u001b[0;34m\u001b[0m\u001b[0;34m\u001b[0m\u001b[0m\n\u001b[0m\u001b[1;32m    524\u001b[0m     \u001b[0mdevice\u001b[0m \u001b[0;34m=\u001b[0m \u001b[0m_get_device_index\u001b[0m\u001b[0;34m(\u001b[0m\u001b[0mdevice\u001b[0m\u001b[0;34m,\u001b[0m \u001b[0moptional\u001b[0m\u001b[0;34m=\u001b[0m\u001b[0;32mTrue\u001b[0m\u001b[0;34m)\u001b[0m\u001b[0;34m\u001b[0m\u001b[0;34m\u001b[0m\u001b[0m\n\u001b[1;32m    525\u001b[0m     \u001b[0;32mif\u001b[0m \u001b[0mdevice\u001b[0m \u001b[0;34m<\u001b[0m \u001b[0;36m0\u001b[0m \u001b[0;32mor\u001b[0m \u001b[0mdevice\u001b[0m \u001b[0;34m>=\u001b[0m \u001b[0mdevice_count\u001b[0m\u001b[0;34m(\u001b[0m\u001b[0;34m)\u001b[0m\u001b[0;34m:\u001b[0m\u001b[0;34m\u001b[0m\u001b[0;34m\u001b[0m\u001b[0m\n",
            "\u001b[0;32m/usr/local/lib/python3.11/dist-packages/torch/cuda/__init__.py\u001b[0m in \u001b[0;36m_lazy_init\u001b[0;34m()\u001b[0m\n\u001b[1;32m    317\u001b[0m         \u001b[0;32mif\u001b[0m \u001b[0;34m\"CUDA_MODULE_LOADING\"\u001b[0m \u001b[0;32mnot\u001b[0m \u001b[0;32min\u001b[0m \u001b[0mos\u001b[0m\u001b[0;34m.\u001b[0m\u001b[0menviron\u001b[0m\u001b[0;34m:\u001b[0m\u001b[0;34m\u001b[0m\u001b[0;34m\u001b[0m\u001b[0m\n\u001b[1;32m    318\u001b[0m             \u001b[0mos\u001b[0m\u001b[0;34m.\u001b[0m\u001b[0menviron\u001b[0m\u001b[0;34m[\u001b[0m\u001b[0;34m\"CUDA_MODULE_LOADING\"\u001b[0m\u001b[0;34m]\u001b[0m \u001b[0;34m=\u001b[0m \u001b[0;34m\"LAZY\"\u001b[0m\u001b[0;34m\u001b[0m\u001b[0;34m\u001b[0m\u001b[0m\n\u001b[0;32m--> 319\u001b[0;31m         \u001b[0mtorch\u001b[0m\u001b[0;34m.\u001b[0m\u001b[0m_C\u001b[0m\u001b[0;34m.\u001b[0m\u001b[0m_cuda_init\u001b[0m\u001b[0;34m(\u001b[0m\u001b[0;34m)\u001b[0m\u001b[0;34m\u001b[0m\u001b[0;34m\u001b[0m\u001b[0m\n\u001b[0m\u001b[1;32m    320\u001b[0m         \u001b[0;31m# Some of the queued calls may reentrantly call _lazy_init();\u001b[0m\u001b[0;34m\u001b[0m\u001b[0;34m\u001b[0m\u001b[0m\n\u001b[1;32m    321\u001b[0m         \u001b[0;31m# we need to just return without initializing in that case.\u001b[0m\u001b[0;34m\u001b[0m\u001b[0;34m\u001b[0m\u001b[0m\n",
            "\u001b[0;31mRuntimeError\u001b[0m: Found no NVIDIA driver on your system. Please check that you have an NVIDIA GPU and installed a driver from http://www.nvidia.com/Download/index.aspx"
          ]
        }
      ],
      "source": [
        "# Check to see if we have a GPU to use for training\n",
        "device = 'cuda' if torch.cuda.is_available else 'cpu'\n",
        "print('A {} device was detected.'.format(device))\n",
        "\n",
        "# Print the name of the cuda device, if detected\n",
        "if device=='cuda':\n",
        "    print (torch.cuda.get_device_name(device=device))"
      ]
    },
    {
      "cell_type": "markdown",
      "metadata": {
        "id": "8W_m0Zx4RORH"
      },
      "source": [
        "## Step 2 - Download and Prepare our Dataset\n",
        "When training a neural network from scratch, you will usually need a lot of data.  We will start by loading all the lemonade stand data for one year (365 items) which is a rather small, simply synthetic dataset.  It includes information about the day the lemonade was sold including whether or not it was a weekend, sunny, warm, a big sign was present to advertise and the price.  Finally, there is the number of lemonade's sold.  Our neural network will be trained to predict the number of lemonade's sold (output) based on the other attributes (inputs)."
      ]
    },
    {
      "cell_type": "code",
      "execution_count": null,
      "metadata": {
        "id": "Ngi9PCYTRORH"
      },
      "outputs": [],
      "source": [
        "# Use Pandas to do our dataprocessing on the dataset\n",
        "# Download the dataset\n",
        "import pandas as pd\n",
        "url = 'https://raw.githubusercontent.com/LeakyAI/FirstNeuralNet/main/lemons.csv'\n",
        "df = pd.read_csv(url)\n",
        "\n",
        "# Explore the first 10 rows of the dataset\n",
        "[TBD]"
      ]
    },
    {
      "cell_type": "code",
      "execution_count": null,
      "metadata": {
        "id": "JuLKbsNYRORH"
      },
      "outputs": [],
      "source": [
        "# Check the size/shape of our dataset\n",
        "[TBD]"
      ]
    },
    {
      "cell_type": "markdown",
      "metadata": {
        "id": "0rfkGcJcRORI"
      },
      "source": [
        "### Create our Inputs and Outputs for Training our Neural Network\n",
        "\n",
        "The data has been collected in a table with the following columns:  \n",
        "\n",
        "<pre> Weekend Sunny Warm BigSign Price NumberSold</pre>\n",
        "\n",
        "While the dataset is more or less ready to be used, we have two fields (Price and NumberSold) that contain real values.  Usually, it's easier to train neural networks if the values used are in the range rough range of -1..1.  We will first reduce the range of Price and NumberSold down using standardization."
      ]
    },
    {
      "cell_type": "code",
      "execution_count": null,
      "metadata": {
        "id": "xyC1MpaGRORI"
      },
      "outputs": [],
      "source": [
        "# Calculate the mean and standard deviation of price\n",
        "# Standardize numSold\n",
        "priceMean = [TBD]\n",
        "priceStd = [TBD]\n",
        "df['Price'] = (df['Price']-priceMean)/priceStd\n",
        "\n",
        "# Calculate the mean and standard deviation of numSold\n",
        "# Standardize numSold\n",
        "numSoldMean = [TBD]\n",
        "numSoldStd = [TBD]\n",
        "df['NumberSold'] = (df['NumberSold']-numSoldMean)/numSoldStd"
      ]
    },
    {
      "cell_type": "code",
      "execution_count": null,
      "metadata": {
        "id": "lqxeCGuaRORI"
      },
      "outputs": [],
      "source": [
        "df.head()"
      ]
    },
    {
      "cell_type": "markdown",
      "metadata": {
        "id": "cFtGFOLvRORI"
      },
      "source": [
        "### Create our Input (x) and Ouput (y) to Train our Neural Network\n",
        "\n",
        "Here you will create the input (x) and output (y) variables needed to train our network.  The number we want our neural network to predict is the field called 'NumberSold'.  This will be the output (y).  We will need to seperate out our input (Weekend, Sunny, Warm, BigSign, Price) from the ouput (NumberSold)."
      ]
    },
    {
      "cell_type": "code",
      "execution_count": null,
      "metadata": {
        "id": "PuHQtFbqRORJ"
      },
      "outputs": [],
      "source": [
        "# Create our PyTorch tensors and move to CPU or GPU if available\n",
        "# Extract the inputs and create a PyTorch tensor x (inputs)\n",
        "inputs = [TBD]\n",
        "x = torch.tensor(df[inputs].values, dtype=torch.float, device=device)\n",
        "\n",
        "# Extract the outputs and create a PyTorch tensor y (outputs)\n",
        "outputs = [TBD]\n",
        "y = torch.tensor(df[outputs].values,dtype=torch.float, device=device)"
      ]
    },
    {
      "cell_type": "code",
      "execution_count": null,
      "metadata": {
        "id": "n4PxMwpjRORJ"
      },
      "outputs": [],
      "source": [
        "# Explore the first 5 inputs\n",
        "[TBD]"
      ]
    },
    {
      "cell_type": "code",
      "execution_count": null,
      "metadata": {
        "id": "2CHrwCBtRORJ"
      },
      "outputs": [],
      "source": [
        "# Explore the first 5 outputs\n",
        "[TBD]"
      ]
    },
    {
      "cell_type": "markdown",
      "metadata": {
        "id": "R1bUUGjnRORJ"
      },
      "source": [
        "## Step 3 - Build your Neural Network\n",
        "Below you will build a simply neural network that will take in the inputs above (5) and produce a single value as an output.  This network has a single hidden layer of 100 units."
      ]
    },
    {
      "cell_type": "code",
      "execution_count": null,
      "metadata": {
        "id": "N3l8Eid3RORJ"
      },
      "outputs": [],
      "source": [
        "# Define your PyTorch neural network\n",
        "# Number of Inputs: 5\n",
        "# Number of Hidden Units: 100\n",
        "# Number of Hidden Layers: 1\n",
        "# Activation Function:  Relu\n",
        "# Number of Ouputs: 1\n",
        "model = nn.Sequential(\n",
        "            [TBD]\n",
        "        )\n",
        "\n",
        "# Move it to either the CPU or GPU depending on what we have available\n",
        "model.to(device)"
      ]
    },
    {
      "cell_type": "markdown",
      "metadata": {
        "id": "7Bi6U3LsRORK"
      },
      "source": [
        "## Step 4 - Train your Neural Network"
      ]
    },
    {
      "cell_type": "markdown",
      "metadata": {
        "id": "2aYABCVnRORK"
      },
      "source": [
        "Here we will simply train our neural network on the dataset.  We will provide it with an input and and output.  The training loop will then adjust the weights within the neural network to make it more accuarate as we go through the training process."
      ]
    },
    {
      "cell_type": "code",
      "execution_count": null,
      "metadata": {
        "id": "J8lNqHBPRORK"
      },
      "outputs": [],
      "source": [
        "import torch.optim as optim\n",
        "\n",
        "# Meausure our neural network by mean square error\n",
        "criterion = [TBD]\n",
        "\n",
        "# Train our network with a simple SGD approach\n",
        "optimizer = [TBD]\n",
        "\n",
        "# Train our network a using the entire dataset 5 times\n",
        "for epoch in range(5):\n",
        "    totalLoss = 0\n",
        "    for i in range(len(x)):\n",
        "\n",
        "        # Single Forward Pass\n",
        "        ypred = [TBD]\n",
        "\n",
        "        # Measure how well the model predicted vs actual\n",
        "        loss = [TBD]\n",
        "\n",
        "        # Track how well the model predicted\n",
        "        totalLoss+=[TBD]\n",
        "\n",
        "        # Update the neural network\n",
        "        optimizer.[TBD]\n",
        "        loss.[TBD]\n",
        "        optimizer.[TBD]\n",
        "\n",
        "    # Print out our loss after each training iteration\n",
        "    print (\"Total Loss: \", totalLoss)"
      ]
    },
    {
      "cell_type": "markdown",
      "metadata": {
        "id": "fgMB25PCRORK"
      },
      "source": [
        "## Step 5 - Analyze the Network's Performance"
      ]
    },
    {
      "cell_type": "code",
      "execution_count": null,
      "metadata": {
        "id": "AzICgcxBRORK"
      },
      "outputs": [],
      "source": [
        "# Plot predictions vs. true values\n",
        "@torch.no_grad()\n",
        "def graphPredictions(model, x, y , minValue, maxValue):\n",
        "\n",
        "    model.eval()                               # Set the model to inference mode\n",
        "\n",
        "    predictions=[]                             # Track predictions\n",
        "    actual=[]                                  # Track the actual labels\n",
        "\n",
        "    x.to(device)\n",
        "    y.to(device)\n",
        "    model.to(device)\n",
        "\n",
        "    for i in range(len(x)):\n",
        "\n",
        "        # Single forward pass\n",
        "        pred = model(x[i])\n",
        "\n",
        "        # Un-normalize our prediction\n",
        "        pred = pred*numSoldStd+numSoldMean\n",
        "        act = y[i]*numSoldStd+numSoldMean\n",
        "\n",
        "        # Save prediction and actual label\n",
        "        predictions.append(pred.tolist())\n",
        "        actual.append(act.item())\n",
        "\n",
        "    # Plot actuals vs predictions\n",
        "    plt.scatter(actual, predictions)\n",
        "    plt.xlabel('Actual Lemonades Sold')\n",
        "    plt.ylabel('Predicted Lemonades Sold')\n",
        "    plt.plot([minValue,maxValue], [minValue,maxValue])\n",
        "    plt.xlim(minValue, maxValue)\n",
        "    plt.ylim(minValue, maxValue)\n",
        "\n",
        "    # Make the display equal in both dimensions\n",
        "    plt.gca().set_aspect('equal', adjustable='box')\n",
        "    plt.show()"
      ]
    },
    {
      "cell_type": "code",
      "execution_count": null,
      "metadata": {
        "id": "xZj37iNDRORK"
      },
      "outputs": [],
      "source": [
        "graphPredictions(model, x, y, 0, 300)"
      ]
    },
    {
      "cell_type": "markdown",
      "metadata": {
        "id": "1JIroiGKRORL"
      },
      "source": [
        "## Step 6 - Test with Your Own Predictions\n",
        "Below we makeup some input data and see what our predictions should be vs what the neural network predicted."
      ]
    },
    {
      "cell_type": "code",
      "execution_count": null,
      "metadata": {
        "id": "E1qGQz8kRORL"
      },
      "outputs": [],
      "source": [
        "# Below we use the synthetic data generator forumla to\n",
        "# determine what the actual result should have been.\n",
        "def datasetGenerator(weekend, sunny, warm, bigsign, price):\n",
        "    numlemonssold = 0\n",
        "    if weekend:\n",
        "        numlemonssold = (sunny*5  + int(500 / price))\n",
        "        if bigsign:\n",
        "            numlemonssold = 1.3 * numlemonssold\n",
        "        if warm:\n",
        "            numlemonssold = 2 * numlemonssold\n",
        "        if sunny:\n",
        "            numlemonssold = 1.25 * numlemonssold\n",
        "    numlemonssold = int(numlemonssold)\n",
        "    return numlemonssold"
      ]
    },
    {
      "cell_type": "code",
      "execution_count": null,
      "metadata": {
        "id": "t-scMxasRORL"
      },
      "outputs": [],
      "source": [
        "# Data that affects the number of lemons sold in one day\n",
        "weekend = 1\n",
        "sunny = 0\n",
        "warm = 0\n",
        "bigsign = 1\n",
        "price = 5\n",
        "\n",
        "# Calculate what would have been the actual result using\n",
        "# the synthetic dataset's algorithm\n",
        "actual = datasetGenerator(weekend, sunny, warm, bigsign, price)\n",
        "\n",
        "# Use the CPU as we just need to do a single pass\n",
        "[TBD]\n",
        "\n",
        "# Normalize our inputs using the same values for our training\n",
        "price = [TBD]\n",
        "\n",
        "# Create our input tensor\n",
        "x1 = torch.tensor([TBD],dtype=float)\n",
        "\n",
        "# Pass the input into the neural network\n",
        "y1 = [TBD]\n",
        "\n",
        "# Un-normalize our output y1\n",
        "y1 = y1*numSoldStd+numSoldMean\n",
        "\n",
        "# Compare what your network predicted to the actual\n",
        "print (\"Neural Network Predicts: \", y1.item())\n",
        "print (\"Actual Result: \", actual)"
      ]
    },
    {
      "cell_type": "markdown",
      "metadata": {
        "id": "PJZILTPaRORL"
      },
      "source": [
        "## Next Steps\n",
        "This is just a beginning but hopefully you can see the power of neural networks!  There are lots of additional things you would do to the project above to make it better including:\n",
        "\n",
        "1.  Break the dataset up into a training, validation and testing set\n",
        "2.  Use a real-world dataset\n",
        "3.  Tune the training to be a lot more accurate\n",
        "\n",
        "To learn more, head over to www.leaky.ai for more free tutorials.\n",
        "\n",
        "Also, check-out our Introduction to A.I. Programming Course at https://www.leaky.ai/introduction-to-ai-programming-with-pytorch-course-beginner where you can learn everything you need to know to start building your own A.I. projects!\n",
        "\n",
        "Happy Learning!\n",
        "\n",
        "leaky.ai team"
      ]
    }
  ],
  "metadata": {
    "kernelspec": {
      "display_name": "Python 3 (ipykernel)",
      "language": "python",
      "name": "python3"
    },
    "language_info": {
      "codemirror_mode": {
        "name": "ipython",
        "version": 3
      },
      "file_extension": ".py",
      "mimetype": "text/x-python",
      "name": "python",
      "nbconvert_exporter": "python",
      "pygments_lexer": "ipython3",
      "version": "3.8.2"
    },
    "colab": {
      "provenance": []
    }
  },
  "nbformat": 4,
  "nbformat_minor": 0
}